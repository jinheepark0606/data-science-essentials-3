{
 "cells": [
  {
   "cell_type": "code",
   "execution_count": 129,
   "metadata": {},
   "outputs": [],
   "source": [
    "import pandas as pd\n",
    "import matplotlib.pyplot as plt\n",
    "import seaborn as sns\n",
    "\n",
    "import numpy as np\n",
    "from sklearn.model_selection import train_test_split\n",
    "from sklearn.linear_model import LogisticRegression\n",
    "from sklearn import metrics\n",
    "\n",
    "import warnings\n",
    "\n",
    "warnings.filterwarnings('ignore')\n",
    "\n",
    "%matplotlib inline"
   ]
  },
  {
   "cell_type": "code",
   "execution_count": 202,
   "metadata": {},
   "outputs": [
    {
     "data": {
      "text/plain": [
       "(95, 4)"
      ]
     },
     "execution_count": 202,
     "metadata": {},
     "output_type": "execute_result"
    }
   ],
   "source": [
    "# we want to focus TN cancer dataset\n",
    "cancer_costs_df = pd.read_csv('../data/mmd_cancer_data.csv')\n",
    "cancer_costs_df = cancer_costs_df.loc[cancer_costs_df['state'] == 'TENNESSEE']\n",
    "cancer_costs_df = cancer_costs_df.rename(columns = {'analysis_value': 'cancer_avg_cost'})\n",
    "cancer_costs_df = cancer_costs_df[['state', 'county', 'urban', 'cancer_avg_cost']]\n",
    "cancer_costs_df.shape"
   ]
  },
  {
   "cell_type": "code",
   "execution_count": 203,
   "metadata": {},
   "outputs": [
    {
     "data": {
      "text/html": [
       "<div>\n",
       "<style scoped>\n",
       "    .dataframe tbody tr th:only-of-type {\n",
       "        vertical-align: middle;\n",
       "    }\n",
       "\n",
       "    .dataframe tbody tr th {\n",
       "        vertical-align: top;\n",
       "    }\n",
       "\n",
       "    .dataframe thead th {\n",
       "        text-align: right;\n",
       "    }\n",
       "</style>\n",
       "<table border=\"1\" class=\"dataframe\">\n",
       "  <thead>\n",
       "    <tr style=\"text-align: right;\">\n",
       "      <th></th>\n",
       "      <th>state</th>\n",
       "      <th>income_bucket</th>\n",
       "      <th>county</th>\n",
       "      <th>returns_with_total_inc</th>\n",
       "      <th>total_inc_amt</th>\n",
       "    </tr>\n",
       "  </thead>\n",
       "  <tbody>\n",
       "    <tr>\n",
       "      <th>19752</th>\n",
       "      <td>TN</td>\n",
       "      <td>1</td>\n",
       "      <td>Tennessee</td>\n",
       "      <td>29090</td>\n",
       "      <td>-2710342</td>\n",
       "    </tr>\n",
       "    <tr>\n",
       "      <th>19753</th>\n",
       "      <td>TN</td>\n",
       "      <td>2</td>\n",
       "      <td>Tennessee</td>\n",
       "      <td>439780</td>\n",
       "      <td>2441687</td>\n",
       "    </tr>\n",
       "  </tbody>\n",
       "</table>\n",
       "</div>"
      ],
      "text/plain": [
       "      state  income_bucket     county  returns_with_total_inc  total_inc_amt\n",
       "19752    TN              1  Tennessee                   29090       -2710342\n",
       "19753    TN              2  Tennessee                  439780        2441687"
      ]
     },
     "execution_count": 203,
     "metadata": {},
     "output_type": "execute_result"
    }
   ],
   "source": [
    "# income dataset\n",
    "income_df = pd.read_csv('../data/irs_county_2016.csv')\n",
    "income_df = income_df.loc[income_df['STATE'] == 'TN']\n",
    "income_df = income_df[['STATE','agi_stub', 'COUNTYNAME', 'N02650', 'A02650']]\n",
    "income_df.columns = ['state', 'income_bucket','county', 'returns_with_total_inc','total_inc_amt']\n",
    "income_df.head(2)"
   ]
  },
  {
   "cell_type": "code",
   "execution_count": 205,
   "metadata": {},
   "outputs": [
    {
     "data": {
      "text/plain": [
       "(96, 2)"
      ]
     },
     "execution_count": 205,
     "metadata": {},
     "output_type": "execute_result"
    }
   ],
   "source": [
    "# aggregation of income data\n",
    "income_agg = income_df.groupby(['state','county']).agg('sum').reset_index()\n",
    "income_agg['avg_income'] = round(income_agg.total_inc_amt * 1000 / income_agg.returns_with_total_inc, 0)\n",
    "income_agg = income_agg[['county', 'avg_income']]\n",
    "income_agg.shape"
   ]
  },
  {
   "cell_type": "code",
   "execution_count": 206,
   "metadata": {},
   "outputs": [],
   "source": [
    "cancer_costs_df = pd.merge(cancer_costs_df, income_agg, on = ['county'], how = 'inner')"
   ]
  },
  {
   "cell_type": "code",
   "execution_count": 209,
   "metadata": {},
   "outputs": [
    {
     "data": {
      "text/plain": [
       "(95, 6)"
      ]
     },
     "execution_count": 209,
     "metadata": {},
     "output_type": "execute_result"
    }
   ],
   "source": [
    "cancer_costs_df['cancer_cost_ratio'] = cancer_costs_df['cancer_avg_cost'] / cancer_costs_df['avg_income']\n",
    "cancer_costs_df.shape"
   ]
  },
  {
   "cell_type": "code",
   "execution_count": 208,
   "metadata": {},
   "outputs": [],
   "source": [
    "# import hospital dataset\n",
    "TN_hospitals = pd.read_csv('../data/TN_hospitals_conty.csv')"
   ]
  },
  {
   "cell_type": "code",
   "execution_count": 190,
   "metadata": {},
   "outputs": [],
   "source": [
    "TN_hospitals_counts = TN_hospitals.County.value_counts()\n",
    "TN_hospitals_counts = TN_hospitals_counts.to_frame().reset_index()"
   ]
  },
  {
   "cell_type": "code",
   "execution_count": 211,
   "metadata": {},
   "outputs": [
    {
     "data": {
      "text/plain": [
       "(71, 2)"
      ]
     },
     "execution_count": 211,
     "metadata": {},
     "output_type": "execute_result"
    }
   ],
   "source": [
    "TN_hospitals_counts = TN_hospitals_counts.rename(columns = {'index': 'county', 'County': 'numbers_hospitals'})\n",
    "TN_hospitals_counts.shape"
   ]
  },
  {
   "cell_type": "code",
   "execution_count": 212,
   "metadata": {},
   "outputs": [
    {
     "data": {
      "text/plain": [
       "(95, 8)"
      ]
     },
     "execution_count": 212,
     "metadata": {},
     "output_type": "execute_result"
    }
   ],
   "source": [
    "# merge cander data and hospital numbers\n",
    "cancer_costs_df= pd.merge(cancer_costs_df, TN_hospitals_counts, on = ['county'], how = 'left')\n",
    "cancer_costs_df.shape"
   ]
  },
  {
   "cell_type": "code",
   "execution_count": 216,
   "metadata": {},
   "outputs": [],
   "source": [
    "# import census dataset and merge with cancer df\n",
    "tn_census = pd.read_csv('../data/tn_census_mod.csv')\n",
    "tn_census = tn_census.rename(columns = {'County': 'county'})"
   ]
  },
  {
   "cell_type": "code",
   "execution_count": 217,
   "metadata": {},
   "outputs": [],
   "source": [
    "cancer_costs_df= pd.merge(cancer_costs_df, tn_census, on = ['county'], how = 'left')"
   ]
  },
  {
   "cell_type": "code",
   "execution_count": 218,
   "metadata": {},
   "outputs": [
    {
     "data": {
      "text/html": [
       "<div>\n",
       "<style scoped>\n",
       "    .dataframe tbody tr th:only-of-type {\n",
       "        vertical-align: middle;\n",
       "    }\n",
       "\n",
       "    .dataframe tbody tr th {\n",
       "        vertical-align: top;\n",
       "    }\n",
       "\n",
       "    .dataframe thead th {\n",
       "        text-align: right;\n",
       "    }\n",
       "</style>\n",
       "<table border=\"1\" class=\"dataframe\">\n",
       "  <thead>\n",
       "    <tr style=\"text-align: right;\">\n",
       "      <th></th>\n",
       "      <th>state</th>\n",
       "      <th>county</th>\n",
       "      <th>urban</th>\n",
       "      <th>cancer_avg_cost</th>\n",
       "      <th>avg_income</th>\n",
       "      <th>cancer_cost_ratio</th>\n",
       "      <th>numbers_hospitals_x</th>\n",
       "      <th>numbers_hospitals_y</th>\n",
       "      <th>Population_V2019</th>\n",
       "      <th>Persons under 5 years, percent</th>\n",
       "      <th>Persons under 18 years, percent</th>\n",
       "      <th>Persons 65 years and over, percent</th>\n",
       "      <th>Female persons, percent</th>\n",
       "      <th>Persons  without health insurance, under age 65 years, percent</th>\n",
       "      <th>Persons in poverty, percent</th>\n",
       "      <th>Total nonemployer establishments, 2018</th>\n",
       "    </tr>\n",
       "  </thead>\n",
       "  <tbody>\n",
       "    <tr>\n",
       "      <th>0</th>\n",
       "      <td>TENNESSEE</td>\n",
       "      <td>Anderson County</td>\n",
       "      <td>Urban</td>\n",
       "      <td>15454</td>\n",
       "      <td>53617.0</td>\n",
       "      <td>0.288229</td>\n",
       "      <td>2.0</td>\n",
       "      <td>2.0</td>\n",
       "      <td>76978</td>\n",
       "      <td>5.40%</td>\n",
       "      <td>21.20%</td>\n",
       "      <td>20.30%</td>\n",
       "      <td>51.30%</td>\n",
       "      <td>11.60%</td>\n",
       "      <td>16.50%</td>\n",
       "      <td>4810</td>\n",
       "    </tr>\n",
       "    <tr>\n",
       "      <th>1</th>\n",
       "      <td>TENNESSEE</td>\n",
       "      <td>Bedford County</td>\n",
       "      <td>Rural</td>\n",
       "      <td>19219</td>\n",
       "      <td>47308.0</td>\n",
       "      <td>0.406253</td>\n",
       "      <td>NaN</td>\n",
       "      <td>NaN</td>\n",
       "      <td>49713</td>\n",
       "      <td>6.70%</td>\n",
       "      <td>25.40%</td>\n",
       "      <td>15.20%</td>\n",
       "      <td>50.70%</td>\n",
       "      <td>14.70%</td>\n",
       "      <td>14.40%</td>\n",
       "      <td>3137</td>\n",
       "    </tr>\n",
       "  </tbody>\n",
       "</table>\n",
       "</div>"
      ],
      "text/plain": [
       "       state           county  urban  cancer_avg_cost  avg_income  \\\n",
       "0  TENNESSEE  Anderson County  Urban            15454     53617.0   \n",
       "1  TENNESSEE   Bedford County  Rural            19219     47308.0   \n",
       "\n",
       "   cancer_cost_ratio  numbers_hospitals_x  numbers_hospitals_y  \\\n",
       "0           0.288229                  2.0                  2.0   \n",
       "1           0.406253                  NaN                  NaN   \n",
       "\n",
       "   Population_V2019 Persons under 5 years, percent  \\\n",
       "0             76978                          5.40%   \n",
       "1             49713                          6.70%   \n",
       "\n",
       "  Persons under 18 years, percent Persons 65 years and over, percent  \\\n",
       "0                          21.20%                             20.30%   \n",
       "1                          25.40%                             15.20%   \n",
       "\n",
       "  Female persons, percent  \\\n",
       "0                  51.30%   \n",
       "1                  50.70%   \n",
       "\n",
       "  Persons  without health insurance, under age 65 years, percent  \\\n",
       "0                                             11.60%               \n",
       "1                                             14.70%               \n",
       "\n",
       "  Persons in poverty, percent  Total nonemployer establishments, 2018  \n",
       "0                      16.50%                                    4810  \n",
       "1                      14.40%                                    3137  "
      ]
     },
     "execution_count": 218,
     "metadata": {},
     "output_type": "execute_result"
    }
   ],
   "source": [
    "cancer_costs_df.head(2)"
   ]
  },
  {
   "cell_type": "code",
   "execution_count": null,
   "metadata": {},
   "outputs": [],
   "source": []
  },
  {
   "cell_type": "code",
   "execution_count": 48,
   "metadata": {},
   "outputs": [
    {
     "data": {
      "text/plain": [
       "0.4149767494462439"
      ]
     },
     "execution_count": 48,
     "metadata": {},
     "output_type": "execute_result"
    }
   ],
   "source": [
    "avg_cancer_ratio = cancer_costs_df.cancer_cost_ratio.mean()\n",
    "avg_cancer_ratio"
   ]
  },
  {
   "cell_type": "code",
   "execution_count": 49,
   "metadata": {},
   "outputs": [],
   "source": [
    "cancer_costs_df['above_avg_cancer_ratio'] = cancer_costs_df['cancer_cost_ratio'] > avg_cancer_ratio"
   ]
  },
  {
   "cell_type": "code",
   "execution_count": 50,
   "metadata": {},
   "outputs": [
    {
     "data": {
      "text/html": [
       "<div>\n",
       "<style scoped>\n",
       "    .dataframe tbody tr th:only-of-type {\n",
       "        vertical-align: middle;\n",
       "    }\n",
       "\n",
       "    .dataframe tbody tr th {\n",
       "        vertical-align: top;\n",
       "    }\n",
       "\n",
       "    .dataframe thead th {\n",
       "        text-align: right;\n",
       "    }\n",
       "</style>\n",
       "<table border=\"1\" class=\"dataframe\">\n",
       "  <thead>\n",
       "    <tr style=\"text-align: right;\">\n",
       "      <th></th>\n",
       "      <th>state</th>\n",
       "      <th>county</th>\n",
       "      <th>urban</th>\n",
       "      <th>cancer_avg_cost</th>\n",
       "      <th>avg_income_x</th>\n",
       "      <th>cancer_cost_ratio</th>\n",
       "      <th>avg_income_y</th>\n",
       "      <th>above_avg_cancer_ratio</th>\n",
       "    </tr>\n",
       "  </thead>\n",
       "  <tbody>\n",
       "    <tr>\n",
       "      <th>0</th>\n",
       "      <td>AL</td>\n",
       "      <td>Autauga County</td>\n",
       "      <td>Urban</td>\n",
       "      <td>19293</td>\n",
       "      <td>55843.0</td>\n",
       "      <td>0.345486</td>\n",
       "      <td>55843.0</td>\n",
       "      <td>False</td>\n",
       "    </tr>\n",
       "    <tr>\n",
       "      <th>1</th>\n",
       "      <td>AL</td>\n",
       "      <td>Baldwin County</td>\n",
       "      <td>Rural</td>\n",
       "      <td>17151</td>\n",
       "      <td>62832.0</td>\n",
       "      <td>0.272966</td>\n",
       "      <td>62832.0</td>\n",
       "      <td>False</td>\n",
       "    </tr>\n",
       "    <tr>\n",
       "      <th>2</th>\n",
       "      <td>AL</td>\n",
       "      <td>Barbour County</td>\n",
       "      <td>Rural</td>\n",
       "      <td>19469</td>\n",
       "      <td>40269.0</td>\n",
       "      <td>0.483474</td>\n",
       "      <td>40269.0</td>\n",
       "      <td>True</td>\n",
       "    </tr>\n",
       "    <tr>\n",
       "      <th>3</th>\n",
       "      <td>AL</td>\n",
       "      <td>Bibb County</td>\n",
       "      <td>Urban</td>\n",
       "      <td>17234</td>\n",
       "      <td>47380.0</td>\n",
       "      <td>0.363740</td>\n",
       "      <td>47380.0</td>\n",
       "      <td>False</td>\n",
       "    </tr>\n",
       "    <tr>\n",
       "      <th>4</th>\n",
       "      <td>AL</td>\n",
       "      <td>Blount County</td>\n",
       "      <td>Urban</td>\n",
       "      <td>20317</td>\n",
       "      <td>49535.0</td>\n",
       "      <td>0.410154</td>\n",
       "      <td>49535.0</td>\n",
       "      <td>False</td>\n",
       "    </tr>\n",
       "  </tbody>\n",
       "</table>\n",
       "</div>"
      ],
      "text/plain": [
       "  state          county  urban  cancer_avg_cost  avg_income_x  \\\n",
       "0    AL  Autauga County  Urban            19293       55843.0   \n",
       "1    AL  Baldwin County  Rural            17151       62832.0   \n",
       "2    AL  Barbour County  Rural            19469       40269.0   \n",
       "3    AL     Bibb County  Urban            17234       47380.0   \n",
       "4    AL   Blount County  Urban            20317       49535.0   \n",
       "\n",
       "   cancer_cost_ratio  avg_income_y  above_avg_cancer_ratio  \n",
       "0           0.345486       55843.0                   False  \n",
       "1           0.272966       62832.0                   False  \n",
       "2           0.483474       40269.0                    True  \n",
       "3           0.363740       47380.0                   False  \n",
       "4           0.410154       49535.0                   False  "
      ]
     },
     "execution_count": 50,
     "metadata": {},
     "output_type": "execute_result"
    }
   ],
   "source": [
    "cancer_costs_df.head()"
   ]
  },
  {
   "cell_type": "code",
   "execution_count": 48,
   "metadata": {},
   "outputs": [],
   "source": [
    "X = cancer_costs_df[['urban_Urban', 'avg_income','cancer_avg_cost']]\n",
    "y = cancer_costs_df.above_avg_cancer_ratio"
   ]
  },
  {
   "cell_type": "code",
   "execution_count": 49,
   "metadata": {},
   "outputs": [],
   "source": [
    "X_train, X_test, y_train, y_test = train_test_split(X, y, random_state = 321)"
   ]
  },
  {
   "cell_type": "code",
   "execution_count": 50,
   "metadata": {},
   "outputs": [],
   "source": [
    "from sklearn.ensemble import RandomForestClassifier\n",
    "from sklearn.tree import DecisionTreeClassifier, export_graphviz\n",
    "#import graphviz\n",
    "from IPython.display import SVG"
   ]
  },
  {
   "cell_type": "code",
   "execution_count": 51,
   "metadata": {},
   "outputs": [
    {
     "data": {
      "text/plain": [
       "RandomForestClassifier()"
      ]
     },
     "execution_count": 51,
     "metadata": {},
     "output_type": "execute_result"
    }
   ],
   "source": [
    "forest = RandomForestClassifier()\n",
    "forest.fit(X_train, y_train)"
   ]
  },
  {
   "cell_type": "code",
   "execution_count": 52,
   "metadata": {},
   "outputs": [
    {
     "name": "stdout",
     "output_type": "stream",
     "text": [
      "1.0\n"
     ]
    }
   ],
   "source": [
    "y_pred_train = forest.predict(X_train)\n",
    "print(metrics.accuracy_score(y_train, y_pred_train))"
   ]
  },
  {
   "cell_type": "code",
   "execution_count": 53,
   "metadata": {},
   "outputs": [
    {
     "name": "stdout",
     "output_type": "stream",
     "text": [
      "0.9856584093872229\n"
     ]
    }
   ],
   "source": [
    "y_pred = forest.predict(X_test)\n",
    "print(metrics.accuracy_score(y_test, y_pred))"
   ]
  },
  {
   "cell_type": "code",
   "execution_count": 54,
   "metadata": {},
   "outputs": [
    {
     "data": {
      "text/plain": [
       "RandomForestClassifier(max_depth=5, min_samples_leaf=5, n_estimators=1000)"
      ]
     },
     "execution_count": 54,
     "metadata": {},
     "output_type": "execute_result"
    }
   ],
   "source": [
    "forest = RandomForestClassifier(n_estimators = 1000, max_depth = 5, min_samples_leaf = 5)\n",
    "forest.fit(X_train, y_train)"
   ]
  },
  {
   "cell_type": "code",
   "execution_count": 55,
   "metadata": {},
   "outputs": [
    {
     "name": "stdout",
     "output_type": "stream",
     "text": [
      "0.9934754240974336\n"
     ]
    }
   ],
   "source": [
    "y_pred_train = forest.predict(X_train)\n",
    "print(metrics.accuracy_score(y_train, y_pred_train))"
   ]
  },
  {
   "cell_type": "code",
   "execution_count": 56,
   "metadata": {},
   "outputs": [
    {
     "name": "stdout",
     "output_type": "stream",
     "text": [
      "0.9830508474576272\n"
     ]
    }
   ],
   "source": [
    "y_pred = forest.predict(X_test)\n",
    "print(metrics.accuracy_score(y_test, y_pred))"
   ]
  },
  {
   "cell_type": "code",
   "execution_count": 57,
   "metadata": {},
   "outputs": [
    {
     "data": {
      "image/png": "[encoded data removed]",
      "text/plain": [
       "<Figure size 504x360 with 1 Axes>"
      ]
     },
     "metadata": {
      "needs_background": "light"
     },
     "output_type": "display_data"
    }
   ],
   "source": [
    "fig, ax = plt.subplots(figsize = (7,5))\n",
    "sns.barplot(x = forest.feature_importances_, y = list(X.columns), ax = ax, edgecolor = 'black')\n",
    "plt.title('Random Forest Feature Importance');"
   ]
  },
  {
   "cell_type": "code",
   "execution_count": 58,
   "metadata": {},
   "outputs": [
    {
     "data": {
      "text/plain": [
       "LogisticRegression()"
      ]
     },
     "execution_count": 58,
     "metadata": {},
     "output_type": "execute_result"
    }
   ],
   "source": [
    "# Logistic model\n",
    "logistic_model = LogisticRegression()\n",
    "logistic_model.fit(X_train, y_train)"
   ]
  },
  {
   "cell_type": "code",
   "execution_count": 59,
   "metadata": {},
   "outputs": [
    {
     "data": {
      "image/png": "[encoded data removed]",
      "text/plain": [
       "<Figure size 504x360 with 1 Axes>"
      ]
     },
     "metadata": {
      "needs_background": "light"
     },
     "output_type": "display_data"
    }
   ],
   "source": [
    "fig, ax = plt.subplots(figsize = (7,5))\n",
    "sns.barplot(x = logistic_model.coef_[0], y = list(X.columns), ax = ax, edgecolor = 'black')\n",
    "plt.title('Logistic Regression Coefficients');"
   ]
  },
  {
   "cell_type": "code",
   "execution_count": 61,
   "metadata": {},
   "outputs": [
    {
     "name": "stdout",
     "output_type": "stream",
     "text": [
      "1.0\n"
     ]
    }
   ],
   "source": [
    "y_pred_prob = logistic_model.predict_proba(X_test)[:,1]\n",
    "\n",
    "print(metrics.roc_auc_score(y_test, y_pred_prob))"
   ]
  },
  {
   "cell_type": "code",
   "execution_count": 69,
   "metadata": {},
   "outputs": [
    {
     "data": {
      "text/plain": [
       "LogisticRegression()"
      ]
     },
     "execution_count": 69,
     "metadata": {},
     "output_type": "execute_result"
    }
   ],
   "source": [
    "X = cancer_costs_df[['urban_Urban',]]\n",
    "y = cancer_costs_df.above_avg_cancer_ratio\n",
    "\n",
    "X_train, X_test, y_train, y_test = train_test_split(X, y, random_state = 321)\n",
    "\n",
    "logistic_model = LogisticRegression()\n",
    "logistic_model.fit(X_train, y_train)"
   ]
  },
  {
   "cell_type": "code",
   "execution_count": 70,
   "metadata": {},
   "outputs": [
    {
     "data": {
      "image/png": "[encoded data removed]",
      "text/plain": [
       "<Figure size 504x360 with 1 Axes>"
      ]
     },
     "metadata": {
      "needs_background": "light"
     },
     "output_type": "display_data"
    }
   ],
   "source": [
    "fig, ax = plt.subplots(figsize = (7,5))\n",
    "sns.barplot(x = logistic_model.coef_[0], y = list(X.columns), ax = ax, edgecolor = 'black')\n",
    "plt.title('Logistic Regression Coefficients');"
   ]
  },
  {
   "cell_type": "code",
   "execution_count": 71,
   "metadata": {},
   "outputs": [],
   "source": [
    "geographic_info = pd.read_csv('../data/geographic_profile.csv')"
   ]
  },
  {
   "cell_type": "code",
   "execution_count": 72,
   "metadata": {},
   "outputs": [
    {
     "data": {
      "text/plain": [
       "state                                                                    0\n",
       "county                                                                   0\n",
       "Median Household Income (5y Average)                                     0\n",
       "Median Household Income for +7-person Households (5y Avg.)             777\n",
       "Median Household Income for 1-person Households (5y Avg.)                0\n",
       "Median Household Income for 2-person Households (5y Avg.)                1\n",
       "Median Household Income for 3-person Households (5y Avg.)               19\n",
       "Median Household Income for 4-person Households (5y Avg.)               39\n",
       "Median Household Income for 5-person Households (5y Avg.)              125\n",
       "Median Household Income for 6-person Households (5y Avg.)              455\n",
       "Percent Below Federal Poverty Level (1y Avg.)                         2389\n",
       "Percent Below Federal Poverty Level (5y Avg.)                            0\n",
       "Percent of +4 Person Households with +3 Workers (5y Avg.)                0\n",
       "Percent of +4 Person Households with 1 Worker (5y Avg.)                  0\n",
       "Percent of +4 Person Households with 2 Workers (5y Avg.)                 0\n",
       "Percent of +4 Person Households with No Workers (5y Avg.)                0\n",
       "Percent of 1 Person Households with 1 Worker (5y Avg.)                   0\n",
       "Percent of 1 Person Households with No Workers (5y Avg.)                 0\n",
       "Percent of 2 Person Households with 1 Worker (5y Avg.)                   0\n",
       "Percent of 2 Person Households with 2 Workers (5y Avg.)                  0\n",
       "Percent of 2 Person Households with No Workers (5y Avg.)                 0\n",
       "Percent of 3 Person Households with 1 Worker (5y Avg.)                   1\n",
       "Percent of 3 Person Households with 2 Workers (5y Avg.)                  1\n",
       "Percent of 3 Person Households with 3 Workers (5y Avg.)                  1\n",
       "Percent of 3 Person Households with No Workers (5y Avg.)                 1\n",
       "Percent of Senior Population Below Federal Poverty Level (1y Avg.)    2389\n",
       "Percent of Senior Population Below Federal Poverty Level (5y Avg.)       0\n",
       "Percentage of Total Housing Units that are Vacant (1y Avg.)           2442\n",
       "Percentage of Total Housing Units that are Vacant (5y Avg.)              0\n",
       "Senior Unemployment Rate (1y Avg.)                                    2498\n",
       "Senior Unemployment Rate (5y Avg.)                                       1\n",
       "Unemployment Rate (1y Avg.)                                           2498\n",
       "Unemployment Rate (5y Avg.)                                              0\n",
       "dtype: int64"
      ]
     },
     "execution_count": 72,
     "metadata": {},
     "output_type": "execute_result"
    }
   ],
   "source": [
    "geographic_info.isna().sum()"
   ]
  },
  {
   "cell_type": "code",
   "execution_count": 73,
   "metadata": {},
   "outputs": [
    {
     "data": {
      "text/html": [
       "<div>\n",
       "<style scoped>\n",
       "    .dataframe tbody tr th:only-of-type {\n",
       "        vertical-align: middle;\n",
       "    }\n",
       "\n",
       "    .dataframe tbody tr th {\n",
       "        vertical-align: top;\n",
       "    }\n",
       "\n",
       "    .dataframe thead th {\n",
       "        text-align: right;\n",
       "    }\n",
       "</style>\n",
       "<table border=\"1\" class=\"dataframe\">\n",
       "  <thead>\n",
       "    <tr style=\"text-align: right;\">\n",
       "      <th></th>\n",
       "      <th>state</th>\n",
       "      <th>county</th>\n",
       "      <th>Percent Below Federal Poverty Level (5y Avg.)</th>\n",
       "    </tr>\n",
       "  </thead>\n",
       "  <tbody>\n",
       "    <tr>\n",
       "      <th>0</th>\n",
       "      <td>Alabama</td>\n",
       "      <td>Autauga County</td>\n",
       "      <td>0.122660</td>\n",
       "    </tr>\n",
       "    <tr>\n",
       "      <th>1</th>\n",
       "      <td>Alabama</td>\n",
       "      <td>Baldwin County</td>\n",
       "      <td>0.129938</td>\n",
       "    </tr>\n",
       "  </tbody>\n",
       "</table>\n",
       "</div>"
      ],
      "text/plain": [
       "      state          county  Percent Below Federal Poverty Level (5y Avg.)\n",
       "0   Alabama  Autauga County                                       0.122660\n",
       "1   Alabama  Baldwin County                                       0.129938"
      ]
     },
     "execution_count": 73,
     "metadata": {},
     "output_type": "execute_result"
    }
   ],
   "source": [
    "geographic_info = geographic_info[['state', 'county', 'Percent Below Federal Poverty Level (5y Avg.)']]\n",
    "geographic_info.head(2)"
   ]
  },
  {
   "cell_type": "code",
   "execution_count": 77,
   "metadata": {},
   "outputs": [
    {
     "name": "stdout",
     "output_type": "stream",
     "text": [
      "DecisionTreeClassifier\t LogisticRegression\t RandomForestClassifier\t SVG\t X\t X_test\t X_train\t avg_cancer_ratio\t ax\t \n",
      "cancer_costs_df\t export_graphviz\t fig\t forest\t fp_rate\t geographic_info\t income_agg\t income_df\t logistic_model\t \n",
      "metrics\t np\t pd\t plt\t sns\t state_abbrev\t thresholds\t titanic\t tp_rate\t \n",
      "train_test_split\t warnings\t y\t y_pred\t y_pred_prob\t y_pred_train\t y_test\t y_train\t \n"
     ]
    }
   ],
   "source": [
    "%who"
   ]
  },
  {
   "cell_type": "code",
   "execution_count": 80,
   "metadata": {},
   "outputs": [
    {
     "data": {
      "text/html": [
       "<div>\n",
       "<style scoped>\n",
       "    .dataframe tbody tr th:only-of-type {\n",
       "        vertical-align: middle;\n",
       "    }\n",
       "\n",
       "    .dataframe tbody tr th {\n",
       "        vertical-align: top;\n",
       "    }\n",
       "\n",
       "    .dataframe thead th {\n",
       "        text-align: right;\n",
       "    }\n",
       "</style>\n",
       "<table border=\"1\" class=\"dataframe\">\n",
       "  <thead>\n",
       "    <tr style=\"text-align: right;\">\n",
       "      <th></th>\n",
       "      <th>cancer_avg_cost</th>\n",
       "      <th>avg_income</th>\n",
       "      <th>above_avg_cancer_ratio</th>\n",
       "      <th>urban_Urban</th>\n",
       "      <th>cancer_cost_ratio_0.10095727836608998</th>\n",
       "      <th>cancer_cost_ratio_0.10231502980382007</th>\n",
       "      <th>cancer_cost_ratio_0.11366512020244622</th>\n",
       "      <th>cancer_cost_ratio_0.13391260162601626</th>\n",
       "      <th>cancer_cost_ratio_0.13427749640467704</th>\n",
       "      <th>cancer_cost_ratio_0.1347484470139615</th>\n",
       "      <th>...</th>\n",
       "      <th>county_Yell County</th>\n",
       "      <th>county_Yellowstone County</th>\n",
       "      <th>county_Yoakum County</th>\n",
       "      <th>county_Yolo County</th>\n",
       "      <th>county_York County</th>\n",
       "      <th>county_Young County</th>\n",
       "      <th>county_Yuba County</th>\n",
       "      <th>county_Yuma County</th>\n",
       "      <th>county_Zapata County</th>\n",
       "      <th>county_Zavala County</th>\n",
       "    </tr>\n",
       "  </thead>\n",
       "  <tbody>\n",
       "    <tr>\n",
       "      <th>0</th>\n",
       "      <td>19293</td>\n",
       "      <td>55843.0</td>\n",
       "      <td>False</td>\n",
       "      <td>1</td>\n",
       "      <td>0</td>\n",
       "      <td>0</td>\n",
       "      <td>0</td>\n",
       "      <td>0</td>\n",
       "      <td>0</td>\n",
       "      <td>0</td>\n",
       "      <td>...</td>\n",
       "      <td>0</td>\n",
       "      <td>0</td>\n",
       "      <td>0</td>\n",
       "      <td>0</td>\n",
       "      <td>0</td>\n",
       "      <td>0</td>\n",
       "      <td>0</td>\n",
       "      <td>0</td>\n",
       "      <td>0</td>\n",
       "      <td>0</td>\n",
       "    </tr>\n",
       "    <tr>\n",
       "      <th>1</th>\n",
       "      <td>17151</td>\n",
       "      <td>62832.0</td>\n",
       "      <td>False</td>\n",
       "      <td>0</td>\n",
       "      <td>0</td>\n",
       "      <td>0</td>\n",
       "      <td>0</td>\n",
       "      <td>0</td>\n",
       "      <td>0</td>\n",
       "      <td>0</td>\n",
       "      <td>...</td>\n",
       "      <td>0</td>\n",
       "      <td>0</td>\n",
       "      <td>0</td>\n",
       "      <td>0</td>\n",
       "      <td>0</td>\n",
       "      <td>0</td>\n",
       "      <td>0</td>\n",
       "      <td>0</td>\n",
       "      <td>0</td>\n",
       "      <td>0</td>\n",
       "    </tr>\n",
       "    <tr>\n",
       "      <th>2</th>\n",
       "      <td>19469</td>\n",
       "      <td>40269.0</td>\n",
       "      <td>True</td>\n",
       "      <td>0</td>\n",
       "      <td>0</td>\n",
       "      <td>0</td>\n",
       "      <td>0</td>\n",
       "      <td>0</td>\n",
       "      <td>0</td>\n",
       "      <td>0</td>\n",
       "      <td>...</td>\n",
       "      <td>0</td>\n",
       "      <td>0</td>\n",
       "      <td>0</td>\n",
       "      <td>0</td>\n",
       "      <td>0</td>\n",
       "      <td>0</td>\n",
       "      <td>0</td>\n",
       "      <td>0</td>\n",
       "      <td>0</td>\n",
       "      <td>0</td>\n",
       "    </tr>\n",
       "    <tr>\n",
       "      <th>3</th>\n",
       "      <td>17234</td>\n",
       "      <td>47380.0</td>\n",
       "      <td>False</td>\n",
       "      <td>1</td>\n",
       "      <td>0</td>\n",
       "      <td>0</td>\n",
       "      <td>0</td>\n",
       "      <td>0</td>\n",
       "      <td>0</td>\n",
       "      <td>0</td>\n",
       "      <td>...</td>\n",
       "      <td>0</td>\n",
       "      <td>0</td>\n",
       "      <td>0</td>\n",
       "      <td>0</td>\n",
       "      <td>0</td>\n",
       "      <td>0</td>\n",
       "      <td>0</td>\n",
       "      <td>0</td>\n",
       "      <td>0</td>\n",
       "      <td>0</td>\n",
       "    </tr>\n",
       "    <tr>\n",
       "      <th>4</th>\n",
       "      <td>20317</td>\n",
       "      <td>49535.0</td>\n",
       "      <td>False</td>\n",
       "      <td>1</td>\n",
       "      <td>0</td>\n",
       "      <td>0</td>\n",
       "      <td>0</td>\n",
       "      <td>0</td>\n",
       "      <td>0</td>\n",
       "      <td>0</td>\n",
       "      <td>...</td>\n",
       "      <td>0</td>\n",
       "      <td>0</td>\n",
       "      <td>0</td>\n",
       "      <td>0</td>\n",
       "      <td>0</td>\n",
       "      <td>0</td>\n",
       "      <td>0</td>\n",
       "      <td>0</td>\n",
       "      <td>0</td>\n",
       "      <td>0</td>\n",
       "    </tr>\n",
       "  </tbody>\n",
       "</table>\n",
       "<p>5 rows × 4933 columns</p>\n",
       "</div>"
      ],
      "text/plain": [
       "   cancer_avg_cost  avg_income  above_avg_cancer_ratio  urban_Urban  \\\n",
       "0            19293     55843.0                   False            1   \n",
       "1            17151     62832.0                   False            0   \n",
       "2            19469     40269.0                    True            0   \n",
       "3            17234     47380.0                   False            1   \n",
       "4            20317     49535.0                   False            1   \n",
       "\n",
       "   cancer_cost_ratio_0.10095727836608998  \\\n",
       "0                                      0   \n",
       "1                                      0   \n",
       "2                                      0   \n",
       "3                                      0   \n",
       "4                                      0   \n",
       "\n",
       "   cancer_cost_ratio_0.10231502980382007  \\\n",
       "0                                      0   \n",
       "1                                      0   \n",
       "2                                      0   \n",
       "3                                      0   \n",
       "4                                      0   \n",
       "\n",
       "   cancer_cost_ratio_0.11366512020244622  \\\n",
       "0                                      0   \n",
       "1                                      0   \n",
       "2                                      0   \n",
       "3                                      0   \n",
       "4                                      0   \n",
       "\n",
       "   cancer_cost_ratio_0.13391260162601626  \\\n",
       "0                                      0   \n",
       "1                                      0   \n",
       "2                                      0   \n",
       "3                                      0   \n",
       "4                                      0   \n",
       "\n",
       "   cancer_cost_ratio_0.13427749640467704  \\\n",
       "0                                      0   \n",
       "1                                      0   \n",
       "2                                      0   \n",
       "3                                      0   \n",
       "4                                      0   \n",
       "\n",
       "   cancer_cost_ratio_0.1347484470139615  ...  county_Yell County  \\\n",
       "0                                     0  ...                   0   \n",
       "1                                     0  ...                   0   \n",
       "2                                     0  ...                   0   \n",
       "3                                     0  ...                   0   \n",
       "4                                     0  ...                   0   \n",
       "\n",
       "   county_Yellowstone County  county_Yoakum County  county_Yolo County  \\\n",
       "0                          0                     0                   0   \n",
       "1                          0                     0                   0   \n",
       "2                          0                     0                   0   \n",
       "3                          0                     0                   0   \n",
       "4                          0                     0                   0   \n",
       "\n",
       "   county_York County  county_Young County  county_Yuba County  \\\n",
       "0                   0                    0                   0   \n",
       "1                   0                    0                   0   \n",
       "2                   0                    0                   0   \n",
       "3                   0                    0                   0   \n",
       "4                   0                    0                   0   \n",
       "\n",
       "   county_Yuma County  county_Zapata County  county_Zavala County  \n",
       "0                   0                     0                     0  \n",
       "1                   0                     0                     0  \n",
       "2                   0                     0                     0  \n",
       "3                   0                     0                     0  \n",
       "4                   0                     0                     0  \n",
       "\n",
       "[5 rows x 4933 columns]"
      ]
     },
     "execution_count": 80,
     "metadata": {},
     "output_type": "execute_result"
    }
   ],
   "source": [
    "cancer_costs_df.head()"
   ]
  },
  {
   "cell_type": "code",
   "execution_count": 1,
   "metadata": {},
   "outputs": [
    {
     "ename": "NameError",
     "evalue": "name 'pd' is not defined",
     "output_type": "error",
     "traceback": [
      "\u001b[1;31m---------------------------------------------------------------------------\u001b[0m",
      "\u001b[1;31mNameError\u001b[0m                                 Traceback (most recent call last)",
      "\u001b[1;32m<ipython-input-1-845c0806b9b8>\u001b[0m in \u001b[0;36m<module>\u001b[1;34m\u001b[0m\n\u001b[1;32m----> 1\u001b[1;33m \u001b[0mcancer_costs_df\u001b[0m \u001b[1;33m=\u001b[0m \u001b[0mpd\u001b[0m\u001b[1;33m.\u001b[0m\u001b[0mread_csv\u001b[0m\u001b[1;33m(\u001b[0m\u001b[1;34m'../data/mmd_cancer_data.csv'\u001b[0m\u001b[1;33m)\u001b[0m\u001b[1;33m\u001b[0m\u001b[1;33m\u001b[0m\u001b[0m\n\u001b[0m",
      "\u001b[1;31mNameError\u001b[0m: name 'pd' is not defined"
     ]
    }
   ],
   "source": [
    "cancer_costs_df = pd.read_csv('../data/mmd_cancer_data.csv')"
   ]
  },
  {
   "cell_type": "code",
   "execution_count": null,
   "metadata": {},
   "outputs": [],
   "source": []
  }
 ],
 "metadata": {
  "kernelspec": {
   "display_name": "Python 3",
   "language": "python",
   "name": "python3"
  },
  "language_info": {
   "codemirror_mode": {
    "name": "ipython",
    "version": 3
   },
   "file_extension": ".py",
   "mimetype": "text/x-python",
   "name": "python",
   "nbconvert_exporter": "python",
   "pygments_lexer": "ipython3",
   "version": "3.8.3"
  }
 },
 "nbformat": 4,
 "nbformat_minor": 4
}
